{
  "nbformat": 4,
  "nbformat_minor": 0,
  "metadata": {
    "colab": {
      "provenance": []
    },
    "kernelspec": {
      "name": "python3",
      "display_name": "Python 3"
    },
    "language_info": {
      "name": "python"
    }
  },
  "cells": [
    {
      "cell_type": "code",
      "execution_count": null,
      "metadata": {
        "id": "jRB20C4uRRHw"
      },
      "outputs": [],
      "source": [
        "# numpyをインポート\n",
        "import numpy as np\n",
        "\n",
        "# 行列A、行列Bを定義\n",
        "A = np.arange(6).reshape(3, 2)\n",
        "B = np.arange(8).reshape(2, 4)\n",
        "\n",
        "# 行列AとBの積を計算\n",
        "calculated_AB = np.dot(A, B)\n",
        "\n",
        "# 計算結果を表示\n",
        "print(calculated_AB)\n",
        "\n",
        "# 行列AとBの積について、その要素の最大値を求める\n",
        "calculated_AB_max = calculated_AB.max()\n",
        "\n",
        "# 最大値を表示\n",
        "print(calculated_AB_max)"
      ]
    }
  ]
}