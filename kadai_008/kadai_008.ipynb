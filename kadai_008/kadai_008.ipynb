{
  "nbformat": 4,
  "nbformat_minor": 0,
  "metadata": {
    "colab": {
      "provenance": []
    },
    "kernelspec": {
      "name": "python3",
      "display_name": "Python 3"
    },
    "language_info": {
      "name": "python"
    }
  },
  "cells": [
    {
      "cell_type": "code",
      "execution_count": 1,
      "metadata": {
        "colab": {
          "base_uri": "https://localhost:8080/"
        },
        "id": "7aT8obZSqlX8",
        "outputId": "dbd2d8fc-3b90-4657-e016-f91694287c32"
      },
      "outputs": [
        {
          "output_type": "stream",
          "name": "stdout",
          "text": [
            "(178, 13) (124, 13) (54, 13) (178,) (124,) (54,)\n"
          ]
        },
        {
          "output_type": "execute_result",
          "data": {
            "text/plain": [
              "0.9629629629629629"
            ]
          },
          "metadata": {},
          "execution_count": 1
        }
      ],
      "source": [
        "# インポート\n",
        "from sklearn.datasets import load_wine\n",
        "\n",
        "# ワインの成分とワイン種別のデータを取得\n",
        "dataset = load_wine()\n",
        "dataset\n",
        "\n",
        "# ワインの成分を表示\n",
        "dataset.data\n",
        "\n",
        "# ワインの成分を表す数値データがそれぞれ何を意味しているのかを示す要素を表示\n",
        "dataset.feature_names\n",
        "\n",
        "# データを見やすくするために、PandasのDataFrameを利用して表示\n",
        "import pandas as pd\n",
        "df = pd.DataFrame(data=dataset.data, columns=dataset.feature_names)\n",
        "df.head()\n",
        "\n",
        "# ワインの種別を表示\n",
        "dataset.target\n",
        "\n",
        "# データフレームにワインの種別を追加\n",
        "df[\"category\"] = dataset.target\n",
        "df.head()\n",
        "\n",
        "# データ数を確認\n",
        "df.shape  #（178, 14）と出力される、ワインの成分13要素＋ワインの種別\n",
        "\n",
        "# サンプルデータを分割する\n",
        "\n",
        "# 説明変数Xと目的変数yを定義\n",
        "X = dataset.data\n",
        "y = dataset.target\n",
        "\n",
        "# インポート\n",
        "from sklearn.model_selection import train_test_split\n",
        "\n",
        "# サンプルデータを7:3の比率で分割\n",
        "train_test_split(X, y, test_size=0.3, random_state=5)  # random_stateを指定しないと実行ごとに結果が変わる\n",
        "\n",
        "# 出力結果を変数に代入\n",
        "X_train, X_test, y_train, y_test = train_test_split(X, y, test_size=0.3, random_state=5)\n",
        "\n",
        "# 実際に7:3に分割されているか、レコード数を確認\n",
        "print(X.shape, X_train.shape, X_test.shape, y.shape, y_train.shape, y_test.shape)\n",
        "\n",
        "# ランダムフォレストをインポート\n",
        "from sklearn.ensemble import RandomForestClassifier\n",
        "\n",
        "# 予測モデルのインスタンス化\n",
        "model = RandomForestClassifier(random_state=3)\n",
        "\n",
        "# 予測モデルの学習\n",
        "model.fit(X_train, y_train)\n",
        "\n",
        "# 予測値を変数y_predに代入\n",
        "y_pred = model.predict(X_test)\n",
        "y_pred\n",
        "y_test\n",
        "\n",
        "# 正解率を求めるのに必要なライブラリをインポート\n",
        "from sklearn.metrics import accuracy_score\n",
        "\n",
        "# 予測モデルの評価（評価指標＝正解率）\n",
        "accuracy_score(y_test, y_pred)\n",
        "\n",
        "# 実行結果の変化について\n",
        "# 決定木の場合：0.925925…\n",
        "# ランダムフォレストの場合：0.9629629…\n",
        "# 精度が上がったことがわかる"
      ]
    }
  ]
}